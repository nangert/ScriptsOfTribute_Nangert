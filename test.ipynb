﻿{
 "cells": [
  {
   "cell_type": "code",
   "id": "initial_id",
   "metadata": {
    "collapsed": true,
    "ExecuteTime": {
     "end_time": "2025-04-21T20:32:33.070540Z",
     "start_time": "2025-04-21T20:32:33.064948Z"
    }
   },
   "source": "print('test')",
   "outputs": [
    {
     "name": "stdout",
     "output_type": "stream",
     "text": [
      "test\n"
     ]
    }
   ],
   "execution_count": 1
  },
  {
   "metadata": {},
   "cell_type": "code",
   "outputs": [],
   "execution_count": null,
   "source": [
    "import scripts_of_tribute\n",
    "print(scripts_of_tribute)"
   ],
   "id": "cc6a844144704006"
  },
  {
   "metadata": {
    "ExecuteTime": {
     "end_time": "2025-03-24T19:33:43.741161Z",
     "start_time": "2025-03-24T19:33:41.739215Z"
    }
   },
   "cell_type": "code",
   "source": [
    "import torch\n",
    "x = torch.rand(5, 3)\n",
    "print(x)"
   ],
   "id": "897d97e8ca03a293",
   "outputs": [
    {
     "name": "stdout",
     "output_type": "stream",
     "text": [
      "tensor([[0.8981, 0.3673, 0.0593],\n",
      "        [0.9060, 0.0430, 0.1090],\n",
      "        [0.8177, 0.8862, 0.3993],\n",
      "        [0.8179, 0.0561, 0.4418],\n",
      "        [0.9158, 0.8060, 0.9166]])\n"
     ]
    }
   ],
   "execution_count": 2
  },
  {
   "metadata": {
    "ExecuteTime": {
     "end_time": "2025-03-24T19:37:05.775020Z",
     "start_time": "2025-03-24T19:37:05.769733Z"
    }
   },
   "cell_type": "code",
   "source": [
    "import scripts_of_tribute\n",
    "from importlib.metadata import version\n",
    "\n",
    "print(version(\"scripts_of_tribute\"))"
   ],
   "id": "f0da629f48ff7798",
   "outputs": [
    {
     "name": "stdout",
     "output_type": "stream",
     "text": [
      "1.0.2\n"
     ]
    }
   ],
   "execution_count": 5
  },
  {
   "metadata": {
    "ExecuteTime": {
     "end_time": "2025-03-30T16:11:58.889718Z",
     "start_time": "2025-03-30T16:11:57.786571Z"
    }
   },
   "cell_type": "code",
   "source": [
    "from scripts_of_tribute import runner, base_ai, game, board, server, move, enums, protos\n",
    "from pathlib import Path\n",
    "str_path = \"\"\n",
    "path = Path(str_path)\n",
    "\n",
    "runner.run_game_runner(runs=1, path=path, bot1=base_ai, bot2=base_ai)\n"
   ],
   "id": "9ebace1969e61bd5",
   "outputs": [
    {
     "ename": "TypeError",
     "evalue": "run_game_runner() missing 3 required positional arguments: 'path', 'bot1', and 'bot2'",
     "output_type": "error",
     "traceback": [
      "\u001B[1;31m---------------------------------------------------------------------------\u001B[0m",
      "\u001B[1;31mTypeError\u001B[0m                                 Traceback (most recent call last)",
      "Cell \u001B[1;32mIn[1], line 3\u001B[0m\n\u001B[0;32m      1\u001B[0m \u001B[38;5;28;01mfrom\u001B[39;00m \u001B[38;5;21;01mscripts_of_tribute\u001B[39;00m \u001B[38;5;28;01mimport\u001B[39;00m runner, base_ai, game, board, server, move\n\u001B[1;32m----> 3\u001B[0m runner\u001B[38;5;241m.\u001B[39mrun_game_runner(runs\u001B[38;5;241m=\u001B[39m\u001B[38;5;241m1\u001B[39m)\n",
      "\u001B[1;31mTypeError\u001B[0m: run_game_runner() missing 3 required positional arguments: 'path', 'bot1', and 'bot2'"
     ]
    }
   ],
   "execution_count": 1
  },
  {
   "metadata": {},
   "cell_type": "code",
   "outputs": [],
   "execution_count": null,
   "source": "",
   "id": "12eb89599d5a85e"
  }
 ],
 "metadata": {
  "kernelspec": {
   "display_name": "Python 3",
   "language": "python",
   "name": "python3"
  },
  "language_info": {
   "codemirror_mode": {
    "name": "ipython",
    "version": 2
   },
   "file_extension": ".py",
   "mimetype": "text/x-python",
   "name": "python",
   "nbconvert_exporter": "python",
   "pygments_lexer": "ipython2",
   "version": "2.7.6"
  }
 },
 "nbformat": 4,
 "nbformat_minor": 5
}
